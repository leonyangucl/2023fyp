{
  "nbformat": 4,
  "nbformat_minor": 0,
  "metadata": {
    "colab": {
      "provenance": [],
      "machine_shape": "hm",
      "gpuType": "T4",
      "authorship_tag": "ABX9TyNaxkpd1G1og+w5n2BPlgam",
      "include_colab_link": true
    },
    "kernelspec": {
      "name": "python3",
      "display_name": "Python 3"
    },
    "language_info": {
      "name": "python"
    },
    "accelerator": "GPU"
  },
  "cells": [
    {
      "cell_type": "markdown",
      "metadata": {
        "id": "view-in-github",
        "colab_type": "text"
      },
      "source": [
        "<a href=\"https://colab.research.google.com/github/leonyangucl/2023fyp/blob/main/inpainting_test.ipynb\" target=\"_parent\"><img src=\"https://colab.research.google.com/assets/colab-badge.svg\" alt=\"Open In Colab\"/></a>"
      ]
    },
    {
      "cell_type": "code",
      "execution_count": 1,
      "metadata": {
        "id": "94V4v_4r_1YU"
      },
      "outputs": [],
      "source": [
        "import numpy as np\n",
        "import matplotlib.pyplot as plt\n",
        "from keras.datasets import mnist\n",
        "import random"
      ]
    },
    {
      "cell_type": "code",
      "source": [
        "\n",
        "# load mnist data\n",
        "(x_train, y_train), (x_test, y_test) = mnist.load_data()\n",
        "\n",
        "# example image\n",
        "image = x_train[5]\n",
        "\n",
        "image_copy = np.copy(image)\n",
        "\n",
        "# we randomly mask this image\n",
        "mask_size = 10\n",
        "start_row = random.randint(0, image_copy.shape[0] - mask_size)\n",
        "start_col = random.randint(0, image_copy.shape[1] - mask_size)\n",
        "\n",
        "image_copy[start_row:start_row+mask_size, start_col:start_col+mask_size] = 0\n",
        "\n",
        "# plot the two images\n",
        "fig, ax = plt.subplots(1, 2)\n",
        "ax[0].imshow(image, cmap='gray')\n",
        "ax[0].set_title('Original Image')\n",
        "ax[1].imshow(image_copy, cmap='gray')\n",
        "ax[1].set_title('Masked Image')\n",
        "plt.show()\n"
      ],
      "metadata": {
        "id": "tMyHFEGiC6Ww"
      },
      "execution_count": null,
      "outputs": []
    },
    {
      "cell_type": "code",
      "source": [
        "(x_train, y_train), (x_test, y_test) = mnist.load_data()\n",
        "# normalization\n",
        "x_train = x_train / 255.0\n",
        "x_test = x_test / 255.0\n",
        "\n",
        "x_train_noisy = x_train.copy()\n",
        "x_test_noisy = x_test.copy()\n",
        "\n",
        "mask_size = 10\n",
        "\n",
        "#mask all the images\n",
        "for img in x_train_noisy:\n",
        "    row = random.randint(0, img.shape[0] - mask_size)\n",
        "    col = random.randint(0, img.shape[1] - mask_size)\n",
        "    img[row:row+mask_size, col:col+mask_size] = 0\n",
        "\n",
        "for img in x_test_noisy:\n",
        "    row = random.randint(0, img.shape[0] - mask_size)\n",
        "    col = random.randint(0, img.shape[1] - mask_size)\n",
        "    img[row:row+mask_size, col:col+mask_size] = 0"
      ],
      "metadata": {
        "id": "O6dcew3oGYod"
      },
      "execution_count": 3,
      "outputs": []
    },
    {
      "cell_type": "code",
      "source": [
        "from keras.models import Sequential\n",
        "from keras.layers import Conv2D, MaxPooling2D, UpSampling2D, Reshape\n",
        "from keras.callbacks import EarlyStopping\n",
        "\n",
        "\n",
        "\n",
        "model = Sequential([\n",
        "    Reshape((28, 28, 1), input_shape=(28, 28)),\n",
        "    Conv2D(32, (3, 3), activation='relu', padding='same'),\n",
        "    MaxPooling2D((2, 2), padding='same'),\n",
        "    Conv2D(32, (3, 3), activation='relu', padding='same'),\n",
        "    MaxPooling2D((2, 2), padding='same'),\n",
        "\n",
        "\n",
        "    Conv2D(32, (3, 3), activation='relu', padding='same'),\n",
        "    UpSampling2D((2, 2)),\n",
        "    Conv2D(32, (3, 3), activation='relu', padding='same'),\n",
        "    UpSampling2D((2, 2)),\n",
        "    Conv2D(1, (3, 3), activation='sigmoid', padding='same'),\n",
        "    Reshape((28, 28))\n",
        "])\n",
        "\n",
        "model.summary()\n",
        "\n",
        "\n"
      ],
      "metadata": {
        "id": "1UdloSUvRtrM"
      },
      "execution_count": null,
      "outputs": []
    },
    {
      "cell_type": "code",
      "source": [
        "model.compile(optimizer='adam', loss='binary_crossentropy')\n",
        "\n",
        "\n",
        "early_stop = EarlyStopping(monitor='val_loss', patience=5, restore_best_weights=True)\n",
        "\n",
        "model.fit(x_train_noisy, x_train, epochs=50, batch_size=128, validation_data=(x_test_noisy, x_test), callbacks=[early_stop])"
      ],
      "metadata": {
        "id": "ltKrHoMiUsyE"
      },
      "execution_count": null,
      "outputs": []
    },
    {
      "cell_type": "code",
      "source": [
        "import numpy as np\n",
        "\n",
        "decoded_imgs = model.predict(x_test_noisy)\n",
        "\n",
        "n = 10\n",
        "random_test_images = np.random.choice(x_test_noisy.shape[0], size=n)\n",
        "\n",
        "plt.figure(figsize=(20, 4))\n",
        "for i, image_idx in enumerate(random_test_images):\n",
        "    # original images\n",
        "    ax = plt.subplot(3, n, i + 1)\n",
        "    plt.imshow(x_test[image_idx].reshape(28, 28))\n",
        "    plt.gray()\n",
        "    ax.get_xaxis().set_visible(False)\n",
        "    ax.get_yaxis().set_visible(False)\n",
        "\n",
        "    # masked images\n",
        "    ax = plt.subplot(3, n, i + 1 + n)\n",
        "    plt.imshow(x_test_noisy[image_idx].reshape(28, 28))\n",
        "    plt.gray()\n",
        "    ax.get_xaxis().set_visible(False)\n",
        "    ax.get_yaxis().set_visible(False)\n",
        "\n",
        "    # fixed images\n",
        "    ax = plt.subplot(3, n, i + 1 + 2*n)\n",
        "    plt.imshow(decoded_imgs[image_idx].reshape(28, 28))\n",
        "    plt.gray()\n",
        "    ax.get_xaxis().set_visible(False)\n",
        "    ax.get_yaxis().set_visible(False)\n",
        "plt.show()"
      ],
      "metadata": {
        "id": "y-R_tGhcJoWu"
      },
      "execution_count": null,
      "outputs": []
    },
    {
      "cell_type": "markdown",
      "source": [
        "simple unet"
      ],
      "metadata": {
        "id": "SOpTJAqRJpUJ"
      }
    },
    {
      "cell_type": "code",
      "source": [
        "from keras.models import Model\n",
        "from keras.layers import Input, Conv2D, MaxPooling2D, UpSampling2D, concatenate\n",
        "\n",
        "def create_model():\n",
        "    inputs = Input((28, 28, 1))\n",
        "\n",
        "    # encoder\n",
        "    conv1 = Conv2D(64, (3, 3), activation='relu', padding='same')(inputs)\n",
        "    pool1 = MaxPooling2D(pool_size=(2, 2))(conv1)\n",
        "\n",
        "    conv2 = Conv2D(128, (3, 3), activation='relu', padding='same')(pool1)\n",
        "    pool2 = MaxPooling2D(pool_size=(2, 2))(conv2)\n",
        "\n",
        "    # decoder\n",
        "    conv3 = Conv2D(128, (3, 3), activation='relu', padding='same')(pool2)\n",
        "    up1 = concatenate([UpSampling2D(size=(2, 2))(conv3), conv2], axis=-1)\n",
        "\n",
        "    conv4 = Conv2D(64, (3, 3), activation='relu', padding='same')(up1)\n",
        "    up2 = concatenate([UpSampling2D(size=(2, 2))(conv4), conv1], axis=-1)\n",
        "\n",
        "    # output layer\n",
        "    conv5 = Conv2D(1, (3, 3), activation='sigmoid', padding='same')(up2)\n",
        "\n",
        "    model = Model(inputs=[inputs], outputs=[conv5])\n",
        "    model.compile(optimizer='adam', loss='binary_crossentropy')\n",
        "\n",
        "    return model\n",
        "\n",
        "model = create_model()\n",
        "model.summary()"
      ],
      "metadata": {
        "id": "pJjOzcvAaar3"
      },
      "execution_count": null,
      "outputs": []
    },
    {
      "cell_type": "code",
      "source": [
        "model.compile(optimizer='adam', loss='binary_crossentropy')\n",
        "\n",
        "\n",
        "early_stop = EarlyStopping(monitor='val_loss', patience=5, restore_best_weights=True)\n",
        "\n",
        "model.fit(x_train_noisy, x_train, epochs=50, batch_size=128, validation_data=(x_test_noisy, x_test), callbacks=[early_stop])"
      ],
      "metadata": {
        "id": "CL1INDitJ9Ob"
      },
      "execution_count": null,
      "outputs": []
    },
    {
      "cell_type": "code",
      "source": [
        "import numpy as np\n",
        "\n",
        "decoded_imgs = model.predict(x_test_noisy)\n",
        "\n",
        "n = 10\n",
        "random_test_images = np.random.choice(x_test_noisy.shape[0], size=n)\n",
        "\n",
        "plt.figure(figsize=(20, 4))\n",
        "for i, image_idx in enumerate(random_test_images):\n",
        "    # original images\n",
        "    ax = plt.subplot(3, n, i + 1)\n",
        "    plt.imshow(x_test[image_idx].reshape(28, 28))\n",
        "    plt.gray()\n",
        "    ax.get_xaxis().set_visible(False)\n",
        "    ax.get_yaxis().set_visible(False)\n",
        "\n",
        "    # masked images\n",
        "    ax = plt.subplot(3, n, i + 1 + n)\n",
        "    plt.imshow(x_test_noisy[image_idx].reshape(28, 28))\n",
        "    plt.gray()\n",
        "    ax.get_xaxis().set_visible(False)\n",
        "    ax.get_yaxis().set_visible(False)\n",
        "\n",
        "    # fixed images\n",
        "    ax = plt.subplot(3, n, i + 1 + 2*n)\n",
        "    plt.imshow(decoded_imgs[image_idx].reshape(28, 28))\n",
        "    plt.gray()\n",
        "    ax.get_xaxis().set_visible(False)\n",
        "    ax.get_yaxis().set_visible(False)\n",
        "plt.show()\n"
      ],
      "metadata": {
        "id": "J4fThJA2IfhO"
      },
      "execution_count": null,
      "outputs": []
    }
  ]
}