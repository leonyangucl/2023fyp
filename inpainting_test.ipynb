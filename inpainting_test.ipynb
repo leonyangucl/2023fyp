{
  "nbformat": 4,
  "nbformat_minor": 0,
  "metadata": {
    "colab": {
      "provenance": [],
      "machine_shape": "hm",
      "gpuType": "T4",
      "authorship_tag": "ABX9TyN7HLvyJRt+HfekzwFE1n0O",
      "include_colab_link": true
    },
    "kernelspec": {
      "name": "python3",
      "display_name": "Python 3"
    },
    "language_info": {
      "name": "python"
    },
    "accelerator": "GPU"
  },
  "cells": [
    {
      "cell_type": "markdown",
      "metadata": {
        "id": "view-in-github",
        "colab_type": "text"
      },
      "source": [
        "<a href=\"https://colab.research.google.com/github/leonyangucl/2023fyp/blob/main/inpainting_test.ipynb\" target=\"_parent\"><img src=\"https://colab.research.google.com/assets/colab-badge.svg\" alt=\"Open In Colab\"/></a>"
      ]
    },
    {
      "cell_type": "code",
      "execution_count": 1,
      "metadata": {
        "id": "94V4v_4r_1YU"
      },
      "outputs": [],
      "source": [
        "import numpy as np\n",
        "import matplotlib.pyplot as plt\n",
        "from keras.datasets import mnist\n",
        "import random"
      ]
    },
    {
      "cell_type": "code",
      "source": [
        "\n",
        "# load mnist data\n",
        "(x_train, y_train), (x_test, y_test) = mnist.load_data()\n",
        "\n",
        "# example image\n",
        "image = x_train[5]\n",
        "\n",
        "image_copy = np.copy(image)\n",
        "\n",
        "# we randomly mask this image\n",
        "mask_size = 10\n",
        "start_row = random.randint(0, image_copy.shape[0] - mask_size)\n",
        "start_col = random.randint(0, image_copy.shape[1] - mask_size)\n",
        "\n",
        "image_copy[start_row:start_row+mask_size, start_col:start_col+mask_size] = 0\n",
        "\n",
        "# plot the two images\n",
        "fig, ax = plt.subplots(1, 2)\n",
        "ax[0].imshow(image, cmap='gray')\n",
        "ax[0].set_title('Original Image')\n",
        "ax[1].imshow(image_copy, cmap='gray')\n",
        "ax[1].set_title('Masked Image')\n",
        "plt.show()\n"
      ],
      "metadata": {
        "colab": {
          "base_uri": "https://localhost:8080/",
          "height": 345
        },
        "id": "tMyHFEGiC6Ww",
        "outputId": "d3ea0f1a-d93a-48f1-ca7e-b12373a225c1"
      },
      "execution_count": 2,
      "outputs": [
        {
          "output_type": "stream",
          "name": "stdout",
          "text": [
            "Downloading data from https://storage.googleapis.com/tensorflow/tf-keras-datasets/mnist.npz\n",
            "11490434/11490434 [==============================] - 2s 0us/step\n"
          ]
        },
        {
          "output_type": "display_data",
          "data": {
            "text/plain": [
              "<Figure size 640x480 with 2 Axes>"
            ],
            "image/png": "[encoded data removed]"
          },
          "metadata": {}
        }
      ]
    },
    {
      "cell_type": "code",
      "source": [
        "(x_train, y_train), (x_test, y_test) = mnist.load_data()\n",
        "# normalization\n",
        "x_train = x_train / 255.0\n",
        "x_test = x_test / 255.0\n",
        "\n",
        "x_train_noisy = x_train.copy()\n",
        "x_test_noisy = x_test.copy()\n",
        "\n",
        "mask_size = 10\n",
        "\n",
        "#mask all the images\n",
        "for img in x_train_noisy:\n",
        "    row = random.randint(0, img.shape[0] - mask_size)\n",
        "    col = random.randint(0, img.shape[1] - mask_size)\n",
        "    img[row:row+mask_size, col:col+mask_size] = 0\n",
        "\n",
        "for img in x_test_noisy:\n",
        "    row = random.randint(0, img.shape[0] - mask_size)\n",
        "    col = random.randint(0, img.shape[1] - mask_size)\n",
        "    img[row:row+mask_size, col:col+mask_size] = 0"
      ],
      "metadata": {
        "id": "O6dcew3oGYod"
      },
      "execution_count": 3,
      "outputs": []
    },
    {
      "cell_type": "code",
      "source": [
        "from keras.models import Sequential\n",
        "from keras.layers import Conv2D, MaxPooling2D, UpSampling2D, Reshape\n",
        "\n",
        "# 定义编码器\n",
        "encoder = Sequential()\n",
        "encoder.add(Reshape((28, 28, 1), input_shape=(28, 28)))  # 将输入调整为4D以适应CNN\n",
        "encoder.add(Conv2D(32, (3, 3), activation='relu', padding='same'))\n",
        "encoder.add(MaxPooling2D((2, 2), padding='same'))\n",
        "encoder.add(Conv2D(32, (3, 3), activation='relu', padding='same'))\n",
        "encoder.add(MaxPooling2D((2, 2), padding='same'))\n",
        "\n",
        "# 定义解码器\n",
        "decoder = Sequential()\n",
        "decoder.add(Conv2D(32, (3, 3), activation='relu', padding='same', input_shape=(7, 7, 32)))\n",
        "decoder.add(UpSampling2D((2, 2)))\n",
        "decoder.add(Conv2D(32, (3, 3), activation='relu', padding='same'))\n",
        "decoder.add(UpSampling2D((2, 2)))\n",
        "decoder.add(Conv2D(1, (3, 3), activation='sigmoid', padding='same'))\n",
        "decoder.add(Reshape((28, 28)))  # 将输出调整为2D\n",
        "\n",
        "# 组合编码器和解码器\n",
        "autoencoder = Sequential([encoder, decoder])\n",
        "autoencoder.compile(optimizer='adam', loss='binary_crossentropy')\n",
        "\n",
        "# 训练模型\n",
        "autoencoder.fit(x_train_noisy, x_train, epochs=50, batch_size=128, validation_data=(x_test_noisy, x_test))\n"
      ],
      "metadata": {
        "id": "V8HKngz4G3Xl"
      },
      "execution_count": null,
      "outputs": []
    },
    {
      "cell_type": "code",
      "source": [
        "from keras.models import Sequential\n",
        "from keras.layers import Conv2D, MaxPooling2D, UpSampling2D, Reshape\n",
        "from keras.callbacks import EarlyStopping\n",
        "\n",
        "\n",
        "\n",
        "model = Sequential([\n",
        "    Reshape((28, 28, 1), input_shape=(28, 28)),\n",
        "    Conv2D(32, (3, 3), activation='relu', padding='same'),\n",
        "    MaxPooling2D((2, 2), padding='same'),\n",
        "    Conv2D(32, (3, 3), activation='relu', padding='same'),\n",
        "    MaxPooling2D((2, 2), padding='same'),\n",
        "\n",
        "\n",
        "    Conv2D(32, (3, 3), activation='relu', padding='same'),\n",
        "    UpSampling2D((2, 2)),\n",
        "    Conv2D(32, (3, 3), activation='relu', padding='same'),\n",
        "    UpSampling2D((2, 2)),\n",
        "    Conv2D(1, (3, 3), activation='sigmoid', padding='same'),\n",
        "    Reshape((28, 28))\n",
        "])\n",
        "\n",
        "model.summary()\n",
        "\n",
        "\n"
      ],
      "metadata": {
        "colab": {
          "base_uri": "https://localhost:8080/"
        },
        "id": "1UdloSUvRtrM",
        "outputId": "6cf84411-f8f6-4b17-90d2-225a392afa2d"
      },
      "execution_count": 4,
      "outputs": [
        {
          "output_type": "stream",
          "name": "stdout",
          "text": [
            "Model: \"sequential\"\n",
            "_________________________________________________________________\n",
            " Layer (type)                Output Shape              Param #   \n",
            "=================================================================\n",
            " reshape (Reshape)           (None, 28, 28, 1)         0         \n",
            "                                                                 \n",
            " conv2d (Conv2D)             (None, 28, 28, 32)        320       \n",
            "                                                                 \n",
            " max_pooling2d (MaxPooling2D  (None, 14, 14, 32)       0         \n",
            " )                                                               \n",
            "                                                                 \n",
            " conv2d_1 (Conv2D)           (None, 14, 14, 32)        9248      \n",
            "                                                                 \n",
            " max_pooling2d_1 (MaxPooling  (None, 7, 7, 32)         0         \n",
            " 2D)                                                             \n",
            "                                                                 \n",
            " conv2d_2 (Conv2D)           (None, 7, 7, 32)          9248      \n",
            "                                                                 \n",
            " up_sampling2d (UpSampling2D  (None, 14, 14, 32)       0         \n",
            " )                                                               \n",
            "                                                                 \n",
            " conv2d_3 (Conv2D)           (None, 14, 14, 32)        9248      \n",
            "                                                                 \n",
            " up_sampling2d_1 (UpSampling  (None, 28, 28, 32)       0         \n",
            " 2D)                                                             \n",
            "                                                                 \n",
            " conv2d_4 (Conv2D)           (None, 28, 28, 1)         289       \n",
            "                                                                 \n",
            " reshape_1 (Reshape)         (None, 28, 28)            0         \n",
            "                                                                 \n",
            "=================================================================\n",
            "Total params: 28,353\n",
            "Trainable params: 28,353\n",
            "Non-trainable params: 0\n",
            "_________________________________________________________________\n"
          ]
        }
      ]
    },
    {
      "cell_type": "code",
      "source": [
        "model.compile(optimizer='adam', loss='binary_crossentropy')\n",
        "\n",
        "\n",
        "early_stop = EarlyStopping(monitor='val_loss', patience=5, restore_best_weights=True)\n",
        "\n",
        "model.fit(x_train_noisy, x_train, epochs=50, batch_size=128, validation_data=(x_test_noisy, x_test), callbacks=[early_stop])"
      ],
      "metadata": {
        "colab": {
          "base_uri": "https://localhost:8080/"
        },
        "id": "ltKrHoMiUsyE",
        "outputId": "01c63db8-1982-4a53-9312-cafb2dd07cc4"
      },
      "execution_count": 5,
      "outputs": [
        {
          "output_type": "stream",
          "name": "stdout",
          "text": [
            "Epoch 1/50\n",
            "469/469 [==============================] - 18s 7ms/step - loss: 0.1704 - val_loss: 0.1238\n",
            "Epoch 2/50\n",
            "469/469 [==============================] - 3s 5ms/step - loss: 0.1170 - val_loss: 0.1109\n",
            "Epoch 3/50\n",
            "469/469 [==============================] - 3s 5ms/step - loss: 0.1092 - val_loss: 0.1073\n",
            "Epoch 4/50\n",
            "469/469 [==============================] - 3s 5ms/step - loss: 0.1051 - val_loss: 0.1031\n",
            "Epoch 5/50\n",
            "469/469 [==============================] - 3s 6ms/step - loss: 0.1024 - val_loss: 0.1004\n",
            "Epoch 6/50\n",
            "469/469 [==============================] - 3s 6ms/step - loss: 0.1003 - val_loss: 0.1000\n",
            "Epoch 7/50\n",
            "469/469 [==============================] - 3s 5ms/step - loss: 0.0990 - val_loss: 0.0979\n",
            "Epoch 8/50\n",
            "469/469 [==============================] - 3s 5ms/step - loss: 0.0977 - val_loss: 0.0965\n",
            "Epoch 9/50\n",
            "469/469 [==============================] - 3s 5ms/step - loss: 0.0966 - val_loss: 0.0960\n",
            "Epoch 10/50\n",
            "469/469 [==============================] - 3s 6ms/step - loss: 0.0959 - val_loss: 0.0957\n",
            "Epoch 11/50\n",
            "469/469 [==============================] - 3s 6ms/step - loss: 0.0951 - val_loss: 0.0945\n",
            "Epoch 12/50\n",
            "469/469 [==============================] - 3s 6ms/step - loss: 0.0945 - val_loss: 0.0939\n",
            "Epoch 13/50\n",
            "469/469 [==============================] - 3s 5ms/step - loss: 0.0939 - val_loss: 0.0936\n",
            "Epoch 14/50\n",
            "469/469 [==============================] - 3s 6ms/step - loss: 0.0934 - val_loss: 0.0929\n",
            "Epoch 15/50\n",
            "469/469 [==============================] - 3s 6ms/step - loss: 0.0929 - val_loss: 0.0925\n",
            "Epoch 16/50\n",
            "469/469 [==============================] - 3s 5ms/step - loss: 0.0925 - val_loss: 0.0921\n",
            "Epoch 17/50\n",
            "469/469 [==============================] - 3s 5ms/step - loss: 0.0922 - val_loss: 0.0918\n",
            "Epoch 18/50\n",
            "469/469 [==============================] - 3s 6ms/step - loss: 0.0916 - val_loss: 0.0914\n",
            "Epoch 19/50\n",
            "469/469 [==============================] - 3s 6ms/step - loss: 0.0915 - val_loss: 0.0916\n",
            "Epoch 20/50\n",
            "469/469 [==============================] - 3s 6ms/step - loss: 0.0911 - val_loss: 0.0911\n",
            "Epoch 21/50\n",
            "469/469 [==============================] - 3s 6ms/step - loss: 0.0908 - val_loss: 0.0906\n",
            "Epoch 22/50\n",
            "469/469 [==============================] - 3s 6ms/step - loss: 0.0905 - val_loss: 0.0908\n",
            "Epoch 23/50\n",
            "469/469 [==============================] - 3s 6ms/step - loss: 0.0904 - val_loss: 0.0900\n",
            "Epoch 24/50\n",
            "469/469 [==============================] - 3s 5ms/step - loss: 0.0901 - val_loss: 0.0900\n",
            "Epoch 25/50\n",
            "469/469 [==============================] - 3s 6ms/step - loss: 0.0899 - val_loss: 0.0898\n",
            "Epoch 26/50\n",
            "469/469 [==============================] - 3s 5ms/step - loss: 0.0897 - val_loss: 0.0898\n",
            "Epoch 27/50\n",
            "469/469 [==============================] - 3s 6ms/step - loss: 0.0895 - val_loss: 0.0895\n",
            "Epoch 28/50\n",
            "469/469 [==============================] - 3s 6ms/step - loss: 0.0894 - val_loss: 0.0895\n",
            "Epoch 29/50\n",
            "469/469 [==============================] - 3s 6ms/step - loss: 0.0892 - val_loss: 0.0893\n",
            "Epoch 30/50\n",
            "469/469 [==============================] - 3s 6ms/step - loss: 0.0890 - val_loss: 0.0890\n",
            "Epoch 31/50\n",
            "469/469 [==============================] - 3s 6ms/step - loss: 0.0889 - val_loss: 0.0892\n",
            "Epoch 32/50\n",
            "469/469 [==============================] - 3s 6ms/step - loss: 0.0888 - val_loss: 0.0888\n",
            "Epoch 33/50\n",
            "469/469 [==============================] - 3s 6ms/step - loss: 0.0887 - val_loss: 0.0890\n",
            "Epoch 34/50\n",
            "469/469 [==============================] - 3s 6ms/step - loss: 0.0885 - val_loss: 0.0884\n",
            "Epoch 35/50\n",
            "469/469 [==============================] - 3s 6ms/step - loss: 0.0884 - val_loss: 0.0888\n",
            "Epoch 36/50\n",
            "469/469 [==============================] - 3s 6ms/step - loss: 0.0883 - val_loss: 0.0885\n",
            "Epoch 37/50\n",
            "469/469 [==============================] - 3s 6ms/step - loss: 0.0882 - val_loss: 0.0885\n",
            "Epoch 38/50\n",
            "469/469 [==============================] - 3s 6ms/step - loss: 0.0880 - val_loss: 0.0885\n",
            "Epoch 39/50\n",
            "469/469 [==============================] - 3s 6ms/step - loss: 0.0880 - val_loss: 0.0882\n",
            "Epoch 40/50\n",
            "469/469 [==============================] - 3s 6ms/step - loss: 0.0879 - val_loss: 0.0881\n",
            "Epoch 41/50\n",
            "469/469 [==============================] - 3s 6ms/step - loss: 0.0878 - val_loss: 0.0884\n",
            "Epoch 42/50\n",
            "469/469 [==============================] - 3s 5ms/step - loss: 0.0878 - val_loss: 0.0882\n",
            "Epoch 43/50\n",
            "469/469 [==============================] - 3s 6ms/step - loss: 0.0877 - val_loss: 0.0878\n",
            "Epoch 44/50\n",
            "469/469 [==============================] - 3s 6ms/step - loss: 0.0876 - val_loss: 0.0881\n",
            "Epoch 45/50\n",
            "469/469 [==============================] - 3s 6ms/step - loss: 0.0875 - val_loss: 0.0876\n",
            "Epoch 46/50\n",
            "469/469 [==============================] - 3s 6ms/step - loss: 0.0876 - val_loss: 0.0878\n",
            "Epoch 47/50\n",
            "469/469 [==============================] - 3s 6ms/step - loss: 0.0874 - val_loss: 0.0880\n",
            "Epoch 48/50\n",
            "469/469 [==============================] - 3s 5ms/step - loss: 0.0873 - val_loss: 0.0886\n",
            "Epoch 49/50\n",
            "469/469 [==============================] - 3s 6ms/step - loss: 0.0872 - val_loss: 0.0873\n",
            "Epoch 50/50\n",
            "469/469 [==============================] - 3s 6ms/step - loss: 0.0873 - val_loss: 0.0877\n"
          ]
        },
        {
          "output_type": "execute_result",
          "data": {
            "text/plain": [
              "<keras.callbacks.History at 0x7b6b993e63b0>"
            ]
          },
          "metadata": {},
          "execution_count": 5
        }
      ]
    },
    {
      "cell_type": "code",
      "source": [
        "import numpy as np\n",
        "\n",
        "decoded_imgs = model.predict(x_test_noisy)\n",
        "\n",
        "n = 10\n",
        "random_test_images = np.random.choice(x_test_noisy.shape[0], size=n)\n",
        "\n",
        "plt.figure(figsize=(20, 4))\n",
        "for i, image_idx in enumerate(random_test_images):\n",
        "    # original images\n",
        "    ax = plt.subplot(3, n, i + 1)\n",
        "    plt.imshow(x_test[image_idx].reshape(28, 28))\n",
        "    plt.gray()\n",
        "    ax.get_xaxis().set_visible(False)\n",
        "    ax.get_yaxis().set_visible(False)\n",
        "\n",
        "    # masked images\n",
        "    ax = plt.subplot(3, n, i + 1 + n)\n",
        "    plt.imshow(x_test_noisy[image_idx].reshape(28, 28))\n",
        "    plt.gray()\n",
        "    ax.get_xaxis().set_visible(False)\n",
        "    ax.get_yaxis().set_visible(False)\n",
        "\n",
        "    # fixed images\n",
        "    ax = plt.subplot(3, n, i + 1 + 2*n)\n",
        "    plt.imshow(decoded_imgs[image_idx].reshape(28, 28))\n",
        "    plt.gray()\n",
        "    ax.get_xaxis().set_visible(False)\n",
        "    ax.get_yaxis().set_visible(False)\n",
        "plt.show()"
      ],
      "metadata": {
        "colab": {
          "base_uri": "https://localhost:8080/",
          "height": 363
        },
        "id": "y-R_tGhcJoWu",
        "outputId": "8ce0d56c-bf6a-40ba-ca42-4fa8049ee95a"
      },
      "execution_count": 7,
      "outputs": [
        {
          "output_type": "stream",
          "name": "stdout",
          "text": [
            "313/313 [==============================] - 1s 2ms/step\n"
          ]
        },
        {
          "output_type": "display_data",
          "data": {
            "text/plain": [
              "<Figure size 2000x400 with 30 Axes>"
            ],
            "image/png": "[encoded data removed]"
          },
          "metadata": {}
        }
      ]
    },
    {
      "cell_type": "markdown",
      "source": [
        "simple unet"
      ],
      "metadata": {
        "id": "SOpTJAqRJpUJ"
      }
    },
    {
      "cell_type": "code",
      "source": [
        "from keras.models import Model\n",
        "from keras.layers import Input, Conv2D, MaxPooling2D, UpSampling2D, concatenate\n",
        "\n",
        "def create_model():\n",
        "    inputs = Input((28, 28, 1))\n",
        "\n",
        "    # encoder\n",
        "    conv1 = Conv2D(64, (3, 3), activation='relu', padding='same')(inputs)\n",
        "    pool1 = MaxPooling2D(pool_size=(2, 2))(conv1)\n",
        "\n",
        "    conv2 = Conv2D(128, (3, 3), activation='relu', padding='same')(pool1)\n",
        "    pool2 = MaxPooling2D(pool_size=(2, 2))(conv2)\n",
        "\n",
        "    # decoder\n",
        "    conv3 = Conv2D(128, (3, 3), activation='relu', padding='same')(pool2)\n",
        "    up1 = concatenate([UpSampling2D(size=(2, 2))(conv3), conv2], axis=-1)\n",
        "\n",
        "    conv4 = Conv2D(64, (3, 3), activation='relu', padding='same')(up1)\n",
        "    up2 = concatenate([UpSampling2D(size=(2, 2))(conv4), conv1], axis=-1)\n",
        "\n",
        "    # output layer\n",
        "    conv5 = Conv2D(1, (3, 3), activation='sigmoid', padding='same')(up2)\n",
        "\n",
        "    model = Model(inputs=[inputs], outputs=[conv5])\n",
        "    model.compile(optimizer='adam', loss='binary_crossentropy')\n",
        "\n",
        "    return model\n",
        "\n",
        "model = create_model()\n",
        "model.summary()"
      ],
      "metadata": {
        "colab": {
          "base_uri": "https://localhost:8080/"
        },
        "id": "pJjOzcvAaar3",
        "outputId": "f9adef59-c14c-4cd4-824b-0c5c301dcccd"
      },
      "execution_count": 8,
      "outputs": [
        {
          "output_type": "stream",
          "name": "stdout",
          "text": [
            "Model: \"model\"\n",
            "__________________________________________________________________________________________________\n",
            " Layer (type)                   Output Shape         Param #     Connected to                     \n",
            "==================================================================================================\n",
            " input_1 (InputLayer)           [(None, 28, 28, 1)]  0           []                               \n",
            "                                                                                                  \n",
            " conv2d_5 (Conv2D)              (None, 28, 28, 64)   640         ['input_1[0][0]']                \n",
            "                                                                                                  \n",
            " max_pooling2d_2 (MaxPooling2D)  (None, 14, 14, 64)  0           ['conv2d_5[0][0]']               \n",
            "                                                                                                  \n",
            " conv2d_6 (Conv2D)              (None, 14, 14, 128)  73856       ['max_pooling2d_2[0][0]']        \n",
            "                                                                                                  \n",
            " max_pooling2d_3 (MaxPooling2D)  (None, 7, 7, 128)   0           ['conv2d_6[0][0]']               \n",
            "                                                                                                  \n",
            " conv2d_7 (Conv2D)              (None, 7, 7, 128)    147584      ['max_pooling2d_3[0][0]']        \n",
            "                                                                                                  \n",
            " up_sampling2d_2 (UpSampling2D)  (None, 14, 14, 128)  0          ['conv2d_7[0][0]']               \n",
            "                                                                                                  \n",
            " concatenate (Concatenate)      (None, 14, 14, 256)  0           ['up_sampling2d_2[0][0]',        \n",
            "                                                                  'conv2d_6[0][0]']               \n",
            "                                                                                                  \n",
            " conv2d_8 (Conv2D)              (None, 14, 14, 64)   147520      ['concatenate[0][0]']            \n",
            "                                                                                                  \n",
            " up_sampling2d_3 (UpSampling2D)  (None, 28, 28, 64)  0           ['conv2d_8[0][0]']               \n",
            "                                                                                                  \n",
            " concatenate_1 (Concatenate)    (None, 28, 28, 128)  0           ['up_sampling2d_3[0][0]',        \n",
            "                                                                  'conv2d_5[0][0]']               \n",
            "                                                                                                  \n",
            " conv2d_9 (Conv2D)              (None, 28, 28, 1)    1153        ['concatenate_1[0][0]']          \n",
            "                                                                                                  \n",
            "==================================================================================================\n",
            "Total params: 370,753\n",
            "Trainable params: 370,753\n",
            "Non-trainable params: 0\n",
            "__________________________________________________________________________________________________\n"
          ]
        }
      ]
    },
    {
      "cell_type": "code",
      "source": [
        "model.compile(optimizer='adam', loss='binary_crossentropy')\n",
        "\n",
        "\n",
        "early_stop = EarlyStopping(monitor='val_loss', patience=5, restore_best_weights=True)\n",
        "\n",
        "model.fit(x_train_noisy, x_train, epochs=50, batch_size=128, validation_data=(x_test_noisy, x_test), callbacks=[early_stop])"
      ],
      "metadata": {
        "colab": {
          "base_uri": "https://localhost:8080/"
        },
        "id": "CL1INDitJ9Ob",
        "outputId": "d709bb3d-599f-449e-b91c-2fb07e15480c"
      },
      "execution_count": 9,
      "outputs": [
        {
          "output_type": "stream",
          "name": "stdout",
          "text": [
            "Epoch 1/50\n",
            "469/469 [==============================] - 12s 19ms/step - loss: 0.1248 - val_loss: 0.0953\n",
            "Epoch 2/50\n",
            "469/469 [==============================] - 8s 17ms/step - loss: 0.0920 - val_loss: 0.0892\n",
            "Epoch 3/50\n",
            "469/469 [==============================] - 8s 17ms/step - loss: 0.0874 - val_loss: 0.0857\n",
            "Epoch 4/50\n",
            "469/469 [==============================] - 8s 17ms/step - loss: 0.0847 - val_loss: 0.0833\n",
            "Epoch 5/50\n",
            "469/469 [==============================] - 8s 18ms/step - loss: 0.0830 - val_loss: 0.0820\n",
            "Epoch 6/50\n",
            "469/469 [==============================] - 8s 17ms/step - loss: 0.0819 - val_loss: 0.0822\n",
            "Epoch 7/50\n",
            "469/469 [==============================] - 8s 17ms/step - loss: 0.0808 - val_loss: 0.0803\n",
            "Epoch 8/50\n",
            "469/469 [==============================] - 8s 18ms/step - loss: 0.0800 - val_loss: 0.0800\n",
            "Epoch 9/50\n",
            "469/469 [==============================] - 8s 17ms/step - loss: 0.0792 - val_loss: 0.0792\n",
            "Epoch 10/50\n",
            "469/469 [==============================] - 8s 17ms/step - loss: 0.0786 - val_loss: 0.0790\n",
            "Epoch 11/50\n",
            "469/469 [==============================] - 8s 17ms/step - loss: 0.0780 - val_loss: 0.0787\n",
            "Epoch 12/50\n",
            "469/469 [==============================] - 8s 17ms/step - loss: 0.0774 - val_loss: 0.0785\n",
            "Epoch 13/50\n",
            "469/469 [==============================] - 8s 17ms/step - loss: 0.0770 - val_loss: 0.0782\n",
            "Epoch 14/50\n",
            "469/469 [==============================] - 8s 17ms/step - loss: 0.0765 - val_loss: 0.0782\n",
            "Epoch 15/50\n",
            "469/469 [==============================] - 8s 17ms/step - loss: 0.0762 - val_loss: 0.0776\n",
            "Epoch 16/50\n",
            "469/469 [==============================] - 8s 17ms/step - loss: 0.0758 - val_loss: 0.0775\n",
            "Epoch 17/50\n",
            "469/469 [==============================] - 8s 17ms/step - loss: 0.0755 - val_loss: 0.0779\n",
            "Epoch 18/50\n",
            "469/469 [==============================] - 8s 17ms/step - loss: 0.0752 - val_loss: 0.0774\n",
            "Epoch 19/50\n",
            "469/469 [==============================] - 8s 17ms/step - loss: 0.0749 - val_loss: 0.0772\n",
            "Epoch 20/50\n",
            "469/469 [==============================] - 8s 17ms/step - loss: 0.0746 - val_loss: 0.0774\n",
            "Epoch 21/50\n",
            "469/469 [==============================] - 8s 17ms/step - loss: 0.0743 - val_loss: 0.0774\n",
            "Epoch 22/50\n",
            "469/469 [==============================] - 8s 17ms/step - loss: 0.0741 - val_loss: 0.0771\n",
            "Epoch 23/50\n",
            "469/469 [==============================] - 8s 17ms/step - loss: 0.0739 - val_loss: 0.0775\n",
            "Epoch 24/50\n",
            "469/469 [==============================] - 8s 17ms/step - loss: 0.0736 - val_loss: 0.0773\n",
            "Epoch 25/50\n",
            "469/469 [==============================] - 8s 17ms/step - loss: 0.0734 - val_loss: 0.0774\n",
            "Epoch 26/50\n",
            "469/469 [==============================] - 8s 17ms/step - loss: 0.0731 - val_loss: 0.0778\n",
            "Epoch 27/50\n",
            "469/469 [==============================] - 8s 17ms/step - loss: 0.0729 - val_loss: 0.0774\n"
          ]
        },
        {
          "output_type": "execute_result",
          "data": {
            "text/plain": [
              "<keras.callbacks.History at 0x7b6acc4f34c0>"
            ]
          },
          "metadata": {},
          "execution_count": 9
        }
      ]
    },
    {
      "cell_type": "code",
      "source": [
        "import numpy as np\n",
        "\n",
        "decoded_imgs = model.predict(x_test_noisy)\n",
        "\n",
        "n = 10\n",
        "random_test_images = np.random.choice(x_test_noisy.shape[0], size=n)\n",
        "\n",
        "plt.figure(figsize=(20, 4))\n",
        "for i, image_idx in enumerate(random_test_images):\n",
        "    # original images\n",
        "    ax = plt.subplot(3, n, i + 1)\n",
        "    plt.imshow(x_test[image_idx].reshape(28, 28))\n",
        "    plt.gray()\n",
        "    ax.get_xaxis().set_visible(False)\n",
        "    ax.get_yaxis().set_visible(False)\n",
        "\n",
        "    # masked images\n",
        "    ax = plt.subplot(3, n, i + 1 + n)\n",
        "    plt.imshow(x_test_noisy[image_idx].reshape(28, 28))\n",
        "    plt.gray()\n",
        "    ax.get_xaxis().set_visible(False)\n",
        "    ax.get_yaxis().set_visible(False)\n",
        "\n",
        "    # fixed images\n",
        "    ax = plt.subplot(3, n, i + 1 + 2*n)\n",
        "    plt.imshow(decoded_imgs[image_idx].reshape(28, 28))\n",
        "    plt.gray()\n",
        "    ax.get_xaxis().set_visible(False)\n",
        "    ax.get_yaxis().set_visible(False)\n",
        "plt.show()\n"
      ],
      "metadata": {
        "colab": {
          "base_uri": "https://localhost:8080/",
          "height": 363
        },
        "id": "J4fThJA2IfhO",
        "outputId": "83f58c22-051f-43db-cd90-0e12832c977a"
      },
      "execution_count": 13,
      "outputs": [
        {
          "output_type": "stream",
          "name": "stdout",
          "text": [
            "313/313 [==============================] - 1s 2ms/step\n"
          ]
        },
        {
          "output_type": "display_data",
          "data": {
            "text/plain": [
              "<Figure size 2000x400 with 30 Axes>"
            ],
            "image/png": "[encoded data removed]"
          },
          "metadata": {}
        }
      ]
    }
  ]
}