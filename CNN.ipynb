{
  "nbformat": 4,
  "nbformat_minor": 0,
  "metadata": {
    "colab": {
      "provenance": [],
      "collapsed_sections": [
        "5Lx8AeN-Du-n"
      ]
    },
    "kernelspec": {
      "name": "python3",
      "display_name": "Python 3"
    },
    "language_info": {
      "name": "python"
    }
  },
  "cells": [
    {
      "cell_type": "code",
      "execution_count": null,
      "metadata": {
        "colab": {
          "base_uri": "https://localhost:8080/"
        },
        "id": "xw_ciNKAXG4j",
        "outputId": "c3b9722c-ed6a-4a5d-a0ca-66a45cee9f93"
      },
      "outputs": [
        {
          "output_type": "stream",
          "name": "stdout",
          "text": [
            "Drive already mounted at /content/drive; to attempt to forcibly remount, call drive.mount(\"/content/drive\", force_remount=True).\n"
          ]
        }
      ],
      "source": [
        "from google.colab import drive\n",
        "drive.mount('/content/drive')"
      ]
    },
    {
      "cell_type": "markdown",
      "source": [
        "import the library we need"
      ],
      "metadata": {
        "id": "HLmuYsECifVD"
      }
    },
    {
      "cell_type": "code",
      "source": [
        "import nibabel as nib\n",
        "import matplotlib.pyplot as plt\n",
        "import numpy as np\n",
        "import tensorflow as tf"
      ],
      "metadata": {
        "id": "ygAJoSHcXN-2"
      },
      "execution_count": null,
      "outputs": []
    },
    {
      "cell_type": "code",
      "source": [
        "from tensorflow.keras.models import Sequential\n",
        "from tensorflow.keras.layers import Dense"
      ],
      "metadata": {
        "id": "MWpD_KjChKNo"
      },
      "execution_count": null,
      "outputs": []
    },
    {
      "cell_type": "markdown",
      "source": [
        "There are two ways to build a neural network."
      ],
      "metadata": {
        "id": "KvAcZF6KiXM5"
      }
    },
    {
      "cell_type": "markdown",
      "source": [
        "![simplenn.jpg](data:image/jpeg;base64,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)"
      ],
      "metadata": {
        "id": "8yDu0bx3M2kp"
      }
    },
    {
      "cell_type": "code",
      "source": [
        "model_1 = Sequential([\n",
        "    Dense(1, input_dim=2)])"
      ],
      "metadata": {
        "id": "4LpZXFR-aIyd"
      },
      "execution_count": null,
      "outputs": []
    },
    {
      "cell_type": "code",
      "source": [
        "model_2 = Sequential()\n",
        "model_2.add(Dense(1, input_dim=2))"
      ],
      "metadata": {
        "id": "oD_EcQaXgtKT"
      },
      "execution_count": null,
      "outputs": []
    },
    {
      "cell_type": "markdown",
      "source": [
        "We can see from the .summary() that there is no difference between these two ways."
      ],
      "metadata": {
        "id": "ueFP9djInJRU"
      }
    },
    {
      "cell_type": "code",
      "source": [
        "model_1.summary()"
      ],
      "metadata": {
        "colab": {
          "base_uri": "https://localhost:8080/"
        },
        "id": "AZwkJB_mhfSn",
        "outputId": "f62c8085-fbdf-437a-e4b8-7f54235e3e83"
      },
      "execution_count": null,
      "outputs": [
        {
          "output_type": "stream",
          "name": "stdout",
          "text": [
            "Model: \"sequential_2\"\n",
            "_________________________________________________________________\n",
            " Layer (type)                Output Shape              Param #   \n",
            "=================================================================\n",
            " dense_2 (Dense)             (None, 1)                 3         \n",
            "                                                                 \n",
            "=================================================================\n",
            "Total params: 3\n",
            "Trainable params: 3\n",
            "Non-trainable params: 0\n",
            "_________________________________________________________________\n"
          ]
        }
      ]
    },
    {
      "cell_type": "code",
      "source": [
        "model_2.summary()"
      ],
      "metadata": {
        "colab": {
          "base_uri": "https://localhost:8080/"
        },
        "id": "Ts-P4OMzhjDI",
        "outputId": "403a099b-3140-4138-d0a2-958febeb61b3"
      },
      "execution_count": null,
      "outputs": [
        {
          "output_type": "stream",
          "name": "stdout",
          "text": [
            "Model: \"sequential_3\"\n",
            "_________________________________________________________________\n",
            " Layer (type)                Output Shape              Param #   \n",
            "=================================================================\n",
            " dense_3 (Dense)             (None, 1)                 3         \n",
            "                                                                 \n",
            "=================================================================\n",
            "Total params: 3\n",
            "Trainable params: 3\n",
            "Non-trainable params: 0\n",
            "_________________________________________________________________\n"
          ]
        }
      ]
    },
    {
      "cell_type": "markdown",
      "source": [
        "##Loss function (error between the true values and the predict values)"
      ],
      "metadata": {
        "id": "5Lx8AeN-Du-n"
      }
    },
    {
      "cell_type": "markdown",
      "source": [
        "1. Regression problem"
      ],
      "metadata": {
        "id": "IB_zlNMHEJJE"
      }
    },
    {
      "cell_type": "code",
      "source": [
        "#assume we have y_true and y_predict\n",
        "y_true = np.array([1,2,3,4])\n",
        "y_predict = np.array([0,1,2,4])"
      ],
      "metadata": {
        "id": "cEeQzMSYFkBi"
      },
      "execution_count": null,
      "outputs": []
    },
    {
      "cell_type": "markdown",
      "source": [
        "in this case we use the loss: mean squared error (MSE)."
      ],
      "metadata": {
        "id": "LM85_IkmGC5S"
      }
    },
    {
      "cell_type": "code",
      "source": [
        "def mse(y_true, y_predict):\n",
        "  loss = np.mean(np.square(y_true - y_predict))\n",
        "  return loss"
      ],
      "metadata": {
        "id": "_K4iH-dOKObD"
      },
      "execution_count": null,
      "outputs": []
    },
    {
      "cell_type": "code",
      "source": [
        "loss = mse(y_true, y_predict)\n",
        "print(loss)"
      ],
      "metadata": {
        "colab": {
          "base_uri": "https://localhost:8080/"
        },
        "id": "aS7SQRF3DwgR",
        "outputId": "43172bee-af4b-49de-d0c2-c72a17626f55"
      },
      "execution_count": null,
      "outputs": [
        {
          "output_type": "stream",
          "name": "stdout",
          "text": [
            "0.75\n"
          ]
        }
      ]
    },
    {
      "cell_type": "markdown",
      "source": [
        "2. Binary classification problem"
      ],
      "metadata": {
        "id": "tVum9hQtF-dn"
      }
    },
    {
      "cell_type": "code",
      "source": [
        "#assume we have y_true and y_predict\n",
        "y_true = np.array([1,1,0,0])\n",
        "y_predict = np.array([0.9,0.7,0.1,0.4])"
      ],
      "metadata": {
        "id": "BYD2_r5vGBeT"
      },
      "execution_count": null,
      "outputs": []
    },
    {
      "cell_type": "markdown",
      "source": [
        "in this case we use binary cross entropy"
      ],
      "metadata": {
        "id": "MyG6AHK5KfvV"
      }
    },
    {
      "cell_type": "code",
      "source": [
        "def binary_ce(y_true, y_predict):\n",
        "  loss = -np.mean(y_true * np.log(y_predict) + (1 - y_true) * np.log(1 - y_predict))\n",
        "  return loss"
      ],
      "metadata": {
        "id": "8-4AcuHWKbGn"
      },
      "execution_count": null,
      "outputs": []
    },
    {
      "cell_type": "code",
      "source": [
        "loss = binary_ce(y_true, y_predict)\n",
        "print(loss)"
      ],
      "metadata": {
        "colab": {
          "base_uri": "https://localhost:8080/"
        },
        "id": "DyrI2AYzHTJI",
        "outputId": "3cef0a0e-11a7-4af6-d908-3c30361f558b"
      },
      "execution_count": null,
      "outputs": [
        {
          "output_type": "stream",
          "name": "stdout",
          "text": [
            "0.2695553997550939\n"
          ]
        }
      ]
    },
    {
      "cell_type": "markdown",
      "source": [
        "let's see what will happen in four extreme cases."
      ],
      "metadata": {
        "id": "i7mmATeMLK3o"
      }
    },
    {
      "cell_type": "code",
      "source": [
        "y_true = np.array([1])\n",
        "y_predict = np.array([0])\n",
        "loss = binary_ce(y_true, y_predict)\n",
        "print(loss)"
      ],
      "metadata": {
        "colab": {
          "base_uri": "https://localhost:8080/"
        },
        "id": "9plwPqwtKCya",
        "outputId": "b7f224db-1407-4527-a838-825e71544b5f"
      },
      "execution_count": null,
      "outputs": [
        {
          "output_type": "stream",
          "name": "stdout",
          "text": [
            "inf\n"
          ]
        },
        {
          "output_type": "stream",
          "name": "stderr",
          "text": [
            "<ipython-input-122-3e42889cd178>:2: RuntimeWarning: divide by zero encountered in log\n",
            "  loss = -np.mean(y_true * np.log(y_predict) + (1 - y_true) * np.log(1 - y_predict))\n"
          ]
        }
      ]
    },
    {
      "cell_type": "code",
      "source": [
        "y_true = np.array([1])\n",
        "y_predict = np.array([0.9999999999])\n",
        "loss = binary_ce(y_true, y_predict)\n",
        "print(loss)"
      ],
      "metadata": {
        "colab": {
          "base_uri": "https://localhost:8080/"
        },
        "id": "WqShh1ZoLTZV",
        "outputId": "2304225d-eddd-4c8e-fae3-6aee6a851a07"
      },
      "execution_count": null,
      "outputs": [
        {
          "output_type": "stream",
          "name": "stdout",
          "text": [
            "1.000000082790371e-10\n"
          ]
        }
      ]
    },
    {
      "cell_type": "code",
      "source": [
        "y_true = np.array([0])\n",
        "y_predict = np.array([1])\n",
        "loss = binary_ce(y_true, y_predict)\n",
        "print(loss)"
      ],
      "metadata": {
        "colab": {
          "base_uri": "https://localhost:8080/"
        },
        "id": "OJNjwYxLLk2B",
        "outputId": "76873749-b553-4648-8a76-6d90ca742b7e"
      },
      "execution_count": null,
      "outputs": [
        {
          "output_type": "stream",
          "name": "stdout",
          "text": [
            "inf\n"
          ]
        },
        {
          "output_type": "stream",
          "name": "stderr",
          "text": [
            "<ipython-input-122-3e42889cd178>:2: RuntimeWarning: divide by zero encountered in log\n",
            "  loss = -np.mean(y_true * np.log(y_predict) + (1 - y_true) * np.log(1 - y_predict))\n"
          ]
        }
      ]
    },
    {
      "cell_type": "code",
      "source": [
        "y_true = np.array([0])\n",
        "y_predict = np.array([0.0000000001])\n",
        "loss = binary_ce(y_true, y_predict)\n",
        "print(loss)"
      ],
      "metadata": {
        "colab": {
          "base_uri": "https://localhost:8080/"
        },
        "id": "WrHfsF29Ln2F",
        "outputId": "1956b842-b3fd-4c0a-a54b-ade9ba512c2e"
      },
      "execution_count": null,
      "outputs": [
        {
          "output_type": "stream",
          "name": "stdout",
          "text": [
            "1.000000082790371e-10\n"
          ]
        }
      ]
    },
    {
      "cell_type": "markdown",
      "source": [
        "##Train a network(brief)"
      ],
      "metadata": {
        "id": "WIRSVgfcapJe"
      }
    },
    {
      "cell_type": "code",
      "source": [
        "X = np.concatenate([np.random.rand(50, 2) * 0.2, np.random.rand(50, 2) * 0.2 + 0.8])\n",
        "Y = np.concatenate([np.zeros(50), np.ones(50)])"
      ],
      "metadata": {
        "id": "kJyWIN5Mat5Q"
      },
      "execution_count": null,
      "outputs": []
    },
    {
      "cell_type": "code",
      "source": [
        "plt.scatter(X[0:50,0],X[0:50,1],label='class 1')\n",
        "plt.scatter(X[50:100,0],X[50:100,1],label='class 2')\n",
        "plt.legend()\n",
        "plt.show()"
      ],
      "metadata": {
        "colab": {
          "base_uri": "https://localhost:8080/",
          "height": 430
        },
        "id": "hJpMdC8gavht",
        "outputId": "403e7e09-27b7-4649-9add-e74730d7a8d1"
      },
      "execution_count": null,
      "outputs": [
        {
          "output_type": "display_data",
          "data": {
            "text/plain": [
              "<Figure size 640x480 with 1 Axes>"
            ],
            "image/png": "[encoded data removed]"
          },
          "metadata": {}
        }
      ]
    },
    {
      "cell_type": "code",
      "source": [
        "model_example = Sequential([\n",
        "    Dense(1,input_dim=2, activation='sigmoid')  #we will talk about this activation later\n",
        "])\n",
        "\n",
        "model_example.compile(loss='binary_crossentropy', optimizer='adam', metrics=['accuracy'])\n",
        "\n",
        "model_example.fit(X, Y, epochs=200)"
      ],
      "metadata": {
        "colab": {
          "base_uri": "https://localhost:8080/"
        },
        "id": "rbPJqTJna6aT",
        "outputId": "a0d4afa4-aaee-4125-aec3-bedca4f8a877"
      },
      "execution_count": null,
      "outputs": [
        {
          "output_type": "stream",
          "name": "stdout",
          "text": [
            "Epoch 1/200\n",
            "4/4 [==============================] - 1s 3ms/step - loss: 0.4893 - accuracy: 0.5000\n",
            "Epoch 2/200\n",
            "4/4 [==============================] - 0s 3ms/step - loss: 0.4883 - accuracy: 0.5000\n",
            "Epoch 3/200\n",
            "4/4 [==============================] - 0s 3ms/step - loss: 0.4873 - accuracy: 0.5000\n",
            "Epoch 4/200\n",
            "4/4 [==============================] - 0s 3ms/step - loss: 0.4862 - accuracy: 0.5000\n",
            "Epoch 5/200\n",
            "4/4 [==============================] - 0s 3ms/step - loss: 0.4852 - accuracy: 0.5000\n",
            "Epoch 6/200\n",
            "4/4 [==============================] - 0s 4ms/step - loss: 0.4842 - accuracy: 0.5000\n",
            "Epoch 7/200\n",
            "4/4 [==============================] - 0s 3ms/step - loss: 0.4832 - accuracy: 0.5000\n",
            "Epoch 8/200\n",
            "4/4 [==============================] - 0s 3ms/step - loss: 0.4821 - accuracy: 0.5000\n",
            "Epoch 9/200\n",
            "4/4 [==============================] - 0s 3ms/step - loss: 0.4811 - accuracy: 0.5000\n",
            "Epoch 10/200\n",
            "4/4 [==============================] - 0s 4ms/step - loss: 0.4801 - accuracy: 0.5000\n",
            "Epoch 11/200\n",
            "4/4 [==============================] - 0s 3ms/step - loss: 0.4791 - accuracy: 0.5000\n",
            "Epoch 12/200\n",
            "4/4 [==============================] - 0s 4ms/step - loss: 0.4781 - accuracy: 0.5100\n",
            "Epoch 13/200\n",
            "4/4 [==============================] - 0s 3ms/step - loss: 0.4771 - accuracy: 0.5100\n",
            "Epoch 14/200\n",
            "4/4 [==============================] - 0s 4ms/step - loss: 0.4760 - accuracy: 0.5100\n",
            "Epoch 15/200\n",
            "4/4 [==============================] - 0s 3ms/step - loss: 0.4751 - accuracy: 0.5100\n",
            "Epoch 16/200\n",
            "4/4 [==============================] - 0s 4ms/step - loss: 0.4741 - accuracy: 0.5100\n",
            "Epoch 17/200\n",
            "4/4 [==============================] - 0s 3ms/step - loss: 0.4731 - accuracy: 0.5100\n",
            "Epoch 18/200\n",
            "4/4 [==============================] - 0s 4ms/step - loss: 0.4721 - accuracy: 0.5200\n",
            "Epoch 19/200\n",
            "4/4 [==============================] - 0s 3ms/step - loss: 0.4712 - accuracy: 0.5200\n",
            "Epoch 20/200\n",
            "4/4 [==============================] - 0s 3ms/step - loss: 0.4702 - accuracy: 0.5200\n",
            "Epoch 21/200\n",
            "4/4 [==============================] - 0s 3ms/step - loss: 0.4693 - accuracy: 0.5200\n",
            "Epoch 22/200\n",
            "4/4 [==============================] - 0s 3ms/step - loss: 0.4683 - accuracy: 0.5300\n",
            "Epoch 23/200\n",
            "4/4 [==============================] - 0s 3ms/step - loss: 0.4673 - accuracy: 0.5400\n",
            "Epoch 24/200\n",
            "4/4 [==============================] - 0s 5ms/step - loss: 0.4664 - accuracy: 0.5400\n",
            "Epoch 25/200\n",
            "4/4 [==============================] - 0s 3ms/step - loss: 0.4654 - accuracy: 0.5400\n",
            "Epoch 26/200\n",
            "4/4 [==============================] - 0s 3ms/step - loss: 0.4644 - accuracy: 0.5500\n",
            "Epoch 27/200\n",
            "4/4 [==============================] - 0s 3ms/step - loss: 0.4634 - accuracy: 0.5700\n",
            "Epoch 28/200\n",
            "4/4 [==============================] - 0s 4ms/step - loss: 0.4625 - accuracy: 0.5700\n",
            "Epoch 29/200\n",
            "4/4 [==============================] - 0s 3ms/step - loss: 0.4615 - accuracy: 0.5700\n",
            "Epoch 30/200\n",
            "4/4 [==============================] - 0s 3ms/step - loss: 0.4606 - accuracy: 0.5700\n",
            "Epoch 31/200\n",
            "4/4 [==============================] - 0s 3ms/step - loss: 0.4596 - accuracy: 0.5700\n",
            "Epoch 32/200\n",
            "4/4 [==============================] - 0s 3ms/step - loss: 0.4587 - accuracy: 0.5800\n",
            "Epoch 33/200\n",
            "4/4 [==============================] - 0s 3ms/step - loss: 0.4577 - accuracy: 0.5800\n",
            "Epoch 34/200\n",
            "4/4 [==============================] - 0s 4ms/step - loss: 0.4568 - accuracy: 0.5800\n",
            "Epoch 35/200\n",
            "4/4 [==============================] - 0s 4ms/step - loss: 0.4558 - accuracy: 0.5800\n",
            "Epoch 36/200\n",
            "4/4 [==============================] - 0s 3ms/step - loss: 0.4548 - accuracy: 0.5900\n",
            "Epoch 37/200\n",
            "4/4 [==============================] - 0s 3ms/step - loss: 0.4539 - accuracy: 0.6000\n",
            "Epoch 38/200\n",
            "4/4 [==============================] - 0s 3ms/step - loss: 0.4530 - accuracy: 0.6200\n",
            "Epoch 39/200\n",
            "4/4 [==============================] - 0s 3ms/step - loss: 0.4521 - accuracy: 0.6300\n",
            "Epoch 40/200\n",
            "4/4 [==============================] - 0s 5ms/step - loss: 0.4512 - accuracy: 0.6300\n",
            "Epoch 41/200\n",
            "4/4 [==============================] - 0s 4ms/step - loss: 0.4502 - accuracy: 0.6400\n",
            "Epoch 42/200\n",
            "4/4 [==============================] - 0s 4ms/step - loss: 0.4493 - accuracy: 0.6400\n",
            "Epoch 43/200\n",
            "4/4 [==============================] - 0s 4ms/step - loss: 0.4484 - accuracy: 0.6600\n",
            "Epoch 44/200\n",
            "4/4 [==============================] - 0s 4ms/step - loss: 0.4474 - accuracy: 0.6600\n",
            "Epoch 45/200\n",
            "4/4 [==============================] - 0s 3ms/step - loss: 0.4465 - accuracy: 0.6700\n",
            "Epoch 46/200\n",
            "4/4 [==============================] - 0s 3ms/step - loss: 0.4456 - accuracy: 0.6700\n",
            "Epoch 47/200\n",
            "4/4 [==============================] - 0s 3ms/step - loss: 0.4447 - accuracy: 0.6800\n",
            "Epoch 48/200\n",
            "4/4 [==============================] - 0s 3ms/step - loss: 0.4437 - accuracy: 0.6900\n",
            "Epoch 49/200\n",
            "4/4 [==============================] - 0s 3ms/step - loss: 0.4428 - accuracy: 0.7000\n",
            "Epoch 50/200\n",
            "4/4 [==============================] - 0s 3ms/step - loss: 0.4419 - accuracy: 0.7100\n",
            "Epoch 51/200\n",
            "4/4 [==============================] - 0s 3ms/step - loss: 0.4410 - accuracy: 0.7100\n",
            "Epoch 52/200\n",
            "4/4 [==============================] - 0s 3ms/step - loss: 0.4401 - accuracy: 0.7100\n",
            "Epoch 53/200\n",
            "4/4 [==============================] - 0s 3ms/step - loss: 0.4392 - accuracy: 0.7200\n",
            "Epoch 54/200\n",
            "4/4 [==============================] - 0s 4ms/step - loss: 0.4384 - accuracy: 0.7200\n",
            "Epoch 55/200\n",
            "4/4 [==============================] - 0s 4ms/step - loss: 0.4375 - accuracy: 0.7300\n",
            "Epoch 56/200\n",
            "4/4 [==============================] - 0s 4ms/step - loss: 0.4366 - accuracy: 0.7300\n",
            "Epoch 57/200\n",
            "4/4 [==============================] - 0s 3ms/step - loss: 0.4357 - accuracy: 0.7300\n",
            "Epoch 58/200\n",
            "4/4 [==============================] - 0s 4ms/step - loss: 0.4348 - accuracy: 0.7300\n",
            "Epoch 59/200\n",
            "4/4 [==============================] - 0s 3ms/step - loss: 0.4340 - accuracy: 0.7300\n",
            "Epoch 60/200\n",
            "4/4 [==============================] - 0s 3ms/step - loss: 0.4331 - accuracy: 0.7300\n",
            "Epoch 61/200\n",
            "4/4 [==============================] - 0s 4ms/step - loss: 0.4322 - accuracy: 0.7400\n",
            "Epoch 62/200\n",
            "4/4 [==============================] - 0s 3ms/step - loss: 0.4314 - accuracy: 0.7400\n",
            "Epoch 63/200\n",
            "4/4 [==============================] - 0s 3ms/step - loss: 0.4305 - accuracy: 0.7400\n",
            "Epoch 64/200\n",
            "4/4 [==============================] - 0s 4ms/step - loss: 0.4297 - accuracy: 0.7400\n",
            "Epoch 65/200\n",
            "4/4 [==============================] - 0s 3ms/step - loss: 0.4288 - accuracy: 0.7500\n",
            "Epoch 66/200\n",
            "4/4 [==============================] - 0s 4ms/step - loss: 0.4280 - accuracy: 0.7600\n",
            "Epoch 67/200\n",
            "4/4 [==============================] - 0s 5ms/step - loss: 0.4271 - accuracy: 0.7700\n",
            "Epoch 68/200\n",
            "4/4 [==============================] - 0s 4ms/step - loss: 0.4263 - accuracy: 0.7700\n",
            "Epoch 69/200\n",
            "4/4 [==============================] - 0s 3ms/step - loss: 0.4255 - accuracy: 0.7700\n",
            "Epoch 70/200\n",
            "4/4 [==============================] - 0s 3ms/step - loss: 0.4247 - accuracy: 0.7700\n",
            "Epoch 71/200\n",
            "4/4 [==============================] - 0s 4ms/step - loss: 0.4238 - accuracy: 0.7900\n",
            "Epoch 72/200\n",
            "4/4 [==============================] - 0s 3ms/step - loss: 0.4230 - accuracy: 0.7900\n",
            "Epoch 73/200\n",
            "4/4 [==============================] - 0s 4ms/step - loss: 0.4221 - accuracy: 0.7900\n",
            "Epoch 74/200\n",
            "4/4 [==============================] - 0s 4ms/step - loss: 0.4212 - accuracy: 0.7900\n",
            "Epoch 75/200\n",
            "4/4 [==============================] - 0s 3ms/step - loss: 0.4204 - accuracy: 0.8000\n",
            "Epoch 76/200\n",
            "4/4 [==============================] - 0s 6ms/step - loss: 0.4195 - accuracy: 0.8200\n",
            "Epoch 77/200\n",
            "4/4 [==============================] - 0s 4ms/step - loss: 0.4186 - accuracy: 0.8200\n",
            "Epoch 78/200\n",
            "4/4 [==============================] - 0s 4ms/step - loss: 0.4178 - accuracy: 0.8300\n",
            "Epoch 79/200\n",
            "4/4 [==============================] - 0s 3ms/step - loss: 0.4169 - accuracy: 0.8300\n",
            "Epoch 80/200\n",
            "4/4 [==============================] - 0s 3ms/step - loss: 0.4161 - accuracy: 0.8500\n",
            "Epoch 81/200\n",
            "4/4 [==============================] - 0s 4ms/step - loss: 0.4153 - accuracy: 0.8700\n",
            "Epoch 82/200\n",
            "4/4 [==============================] - 0s 4ms/step - loss: 0.4144 - accuracy: 0.8700\n",
            "Epoch 83/200\n",
            "4/4 [==============================] - 0s 4ms/step - loss: 0.4136 - accuracy: 0.8800\n",
            "Epoch 84/200\n",
            "4/4 [==============================] - 0s 3ms/step - loss: 0.4128 - accuracy: 0.8800\n",
            "Epoch 85/200\n",
            "4/4 [==============================] - 0s 3ms/step - loss: 0.4120 - accuracy: 0.8800\n",
            "Epoch 86/200\n",
            "4/4 [==============================] - 0s 3ms/step - loss: 0.4112 - accuracy: 0.8800\n",
            "Epoch 87/200\n",
            "4/4 [==============================] - 0s 3ms/step - loss: 0.4105 - accuracy: 0.8800\n",
            "Epoch 88/200\n",
            "4/4 [==============================] - 0s 3ms/step - loss: 0.4097 - accuracy: 0.8800\n",
            "Epoch 89/200\n",
            "4/4 [==============================] - 0s 4ms/step - loss: 0.4089 - accuracy: 0.8900\n",
            "Epoch 90/200\n",
            "4/4 [==============================] - 0s 3ms/step - loss: 0.4081 - accuracy: 0.8900\n",
            "Epoch 91/200\n",
            "4/4 [==============================] - 0s 4ms/step - loss: 0.4073 - accuracy: 0.9000\n",
            "Epoch 92/200\n",
            "4/4 [==============================] - 0s 4ms/step - loss: 0.4065 - accuracy: 0.9000\n",
            "Epoch 93/200\n",
            "4/4 [==============================] - 0s 4ms/step - loss: 0.4056 - accuracy: 0.9000\n",
            "Epoch 94/200\n",
            "4/4 [==============================] - 0s 3ms/step - loss: 0.4048 - accuracy: 0.9000\n",
            "Epoch 95/200\n",
            "4/4 [==============================] - 0s 4ms/step - loss: 0.4040 - accuracy: 0.9000\n",
            "Epoch 96/200\n",
            "4/4 [==============================] - 0s 3ms/step - loss: 0.4032 - accuracy: 0.9000\n",
            "Epoch 97/200\n",
            "4/4 [==============================] - 0s 4ms/step - loss: 0.4023 - accuracy: 0.9100\n",
            "Epoch 98/200\n",
            "4/4 [==============================] - 0s 3ms/step - loss: 0.4015 - accuracy: 0.9100\n",
            "Epoch 99/200\n",
            "4/4 [==============================] - 0s 3ms/step - loss: 0.4007 - accuracy: 0.9100\n",
            "Epoch 100/200\n",
            "4/4 [==============================] - 0s 3ms/step - loss: 0.3999 - accuracy: 0.9200\n",
            "Epoch 101/200\n",
            "4/4 [==============================] - 0s 3ms/step - loss: 0.3991 - accuracy: 0.9300\n",
            "Epoch 102/200\n",
            "4/4 [==============================] - 0s 3ms/step - loss: 0.3983 - accuracy: 0.9300\n",
            "Epoch 103/200\n",
            "4/4 [==============================] - 0s 3ms/step - loss: 0.3975 - accuracy: 0.9300\n",
            "Epoch 104/200\n",
            "4/4 [==============================] - 0s 3ms/step - loss: 0.3967 - accuracy: 0.9400\n",
            "Epoch 105/200\n",
            "4/4 [==============================] - 0s 4ms/step - loss: 0.3960 - accuracy: 0.9500\n",
            "Epoch 106/200\n",
            "4/4 [==============================] - 0s 4ms/step - loss: 0.3951 - accuracy: 0.9500\n",
            "Epoch 107/200\n",
            "4/4 [==============================] - 0s 4ms/step - loss: 0.3943 - accuracy: 0.9500\n",
            "Epoch 108/200\n",
            "4/4 [==============================] - 0s 3ms/step - loss: 0.3936 - accuracy: 0.9500\n",
            "Epoch 109/200\n",
            "4/4 [==============================] - 0s 3ms/step - loss: 0.3928 - accuracy: 0.9500\n",
            "Epoch 110/200\n",
            "4/4 [==============================] - 0s 3ms/step - loss: 0.3920 - accuracy: 0.9500\n",
            "Epoch 111/200\n",
            "4/4 [==============================] - 0s 3ms/step - loss: 0.3912 - accuracy: 0.9500\n",
            "Epoch 112/200\n",
            "4/4 [==============================] - 0s 3ms/step - loss: 0.3905 - accuracy: 0.9600\n",
            "Epoch 113/200\n",
            "4/4 [==============================] - 0s 3ms/step - loss: 0.3897 - accuracy: 0.9600\n",
            "Epoch 114/200\n",
            "4/4 [==============================] - 0s 3ms/step - loss: 0.3889 - accuracy: 0.9600\n",
            "Epoch 115/200\n",
            "4/4 [==============================] - 0s 3ms/step - loss: 0.3882 - accuracy: 0.9600\n",
            "Epoch 116/200\n",
            "4/4 [==============================] - 0s 4ms/step - loss: 0.3874 - accuracy: 0.9600\n",
            "Epoch 117/200\n",
            "4/4 [==============================] - 0s 3ms/step - loss: 0.3866 - accuracy: 0.9600\n",
            "Epoch 118/200\n",
            "4/4 [==============================] - 0s 5ms/step - loss: 0.3859 - accuracy: 0.9600\n",
            "Epoch 119/200\n",
            "4/4 [==============================] - 0s 4ms/step - loss: 0.3851 - accuracy: 0.9600\n",
            "Epoch 120/200\n",
            "4/4 [==============================] - 0s 4ms/step - loss: 0.3843 - accuracy: 0.9700\n",
            "Epoch 121/200\n",
            "4/4 [==============================] - 0s 3ms/step - loss: 0.3836 - accuracy: 0.9800\n",
            "Epoch 122/200\n",
            "4/4 [==============================] - 0s 4ms/step - loss: 0.3828 - accuracy: 0.9800\n",
            "Epoch 123/200\n",
            "4/4 [==============================] - 0s 3ms/step - loss: 0.3821 - accuracy: 0.9800\n",
            "Epoch 124/200\n",
            "4/4 [==============================] - 0s 3ms/step - loss: 0.3813 - accuracy: 0.9800\n",
            "Epoch 125/200\n",
            "4/4 [==============================] - 0s 4ms/step - loss: 0.3806 - accuracy: 0.9800\n",
            "Epoch 126/200\n",
            "4/4 [==============================] - 0s 3ms/step - loss: 0.3798 - accuracy: 0.9800\n",
            "Epoch 127/200\n",
            "4/4 [==============================] - 0s 4ms/step - loss: 0.3791 - accuracy: 0.9900\n",
            "Epoch 128/200\n",
            "4/4 [==============================] - 0s 4ms/step - loss: 0.3784 - accuracy: 0.9900\n",
            "Epoch 129/200\n",
            "4/4 [==============================] - 0s 3ms/step - loss: 0.3776 - accuracy: 0.9900\n",
            "Epoch 130/200\n",
            "4/4 [==============================] - 0s 4ms/step - loss: 0.3769 - accuracy: 0.9900\n",
            "Epoch 131/200\n",
            "4/4 [==============================] - 0s 3ms/step - loss: 0.3761 - accuracy: 0.9900\n",
            "Epoch 132/200\n",
            "4/4 [==============================] - 0s 3ms/step - loss: 0.3754 - accuracy: 0.9900\n",
            "Epoch 133/200\n",
            "4/4 [==============================] - 0s 3ms/step - loss: 0.3746 - accuracy: 0.9900\n",
            "Epoch 134/200\n",
            "4/4 [==============================] - 0s 3ms/step - loss: 0.3739 - accuracy: 0.9900\n",
            "Epoch 135/200\n",
            "4/4 [==============================] - 0s 5ms/step - loss: 0.3732 - accuracy: 0.9900\n",
            "Epoch 136/200\n",
            "4/4 [==============================] - 0s 3ms/step - loss: 0.3725 - accuracy: 0.9900\n",
            "Epoch 137/200\n",
            "4/4 [==============================] - 0s 3ms/step - loss: 0.3718 - accuracy: 0.9900\n",
            "Epoch 138/200\n",
            "4/4 [==============================] - 0s 5ms/step - loss: 0.3711 - accuracy: 0.9900\n",
            "Epoch 139/200\n",
            "4/4 [==============================] - 0s 4ms/step - loss: 0.3704 - accuracy: 0.9900\n",
            "Epoch 140/200\n",
            "4/4 [==============================] - 0s 4ms/step - loss: 0.3697 - accuracy: 0.9900\n",
            "Epoch 141/200\n",
            "4/4 [==============================] - 0s 4ms/step - loss: 0.3690 - accuracy: 0.9900\n",
            "Epoch 142/200\n",
            "4/4 [==============================] - 0s 5ms/step - loss: 0.3683 - accuracy: 0.9900\n",
            "Epoch 143/200\n",
            "4/4 [==============================] - 0s 5ms/step - loss: 0.3676 - accuracy: 0.9900\n",
            "Epoch 144/200\n",
            "4/4 [==============================] - 0s 5ms/step - loss: 0.3669 - accuracy: 0.9900\n",
            "Epoch 145/200\n",
            "4/4 [==============================] - 0s 4ms/step - loss: 0.3661 - accuracy: 1.0000\n",
            "Epoch 146/200\n",
            "4/4 [==============================] - 0s 4ms/step - loss: 0.3654 - accuracy: 1.0000\n",
            "Epoch 147/200\n",
            "4/4 [==============================] - 0s 5ms/step - loss: 0.3647 - accuracy: 1.0000\n",
            "Epoch 148/200\n",
            "4/4 [==============================] - 0s 4ms/step - loss: 0.3640 - accuracy: 1.0000\n",
            "Epoch 149/200\n",
            "4/4 [==============================] - 0s 4ms/step - loss: 0.3633 - accuracy: 1.0000\n",
            "Epoch 150/200\n",
            "4/4 [==============================] - 0s 3ms/step - loss: 0.3626 - accuracy: 1.0000\n",
            "Epoch 151/200\n",
            "4/4 [==============================] - 0s 4ms/step - loss: 0.3619 - accuracy: 1.0000\n",
            "Epoch 152/200\n",
            "4/4 [==============================] - 0s 4ms/step - loss: 0.3612 - accuracy: 1.0000\n",
            "Epoch 153/200\n",
            "4/4 [==============================] - 0s 4ms/step - loss: 0.3604 - accuracy: 1.0000\n",
            "Epoch 154/200\n",
            "4/4 [==============================] - 0s 5ms/step - loss: 0.3597 - accuracy: 1.0000\n",
            "Epoch 155/200\n",
            "4/4 [==============================] - 0s 4ms/step - loss: 0.3590 - accuracy: 1.0000\n",
            "Epoch 156/200\n",
            "4/4 [==============================] - 0s 4ms/step - loss: 0.3583 - accuracy: 1.0000\n",
            "Epoch 157/200\n",
            "4/4 [==============================] - 0s 4ms/step - loss: 0.3575 - accuracy: 1.0000\n",
            "Epoch 158/200\n",
            "4/4 [==============================] - 0s 4ms/step - loss: 0.3568 - accuracy: 1.0000\n",
            "Epoch 159/200\n",
            "4/4 [==============================] - 0s 4ms/step - loss: 0.3562 - accuracy: 1.0000\n",
            "Epoch 160/200\n",
            "4/4 [==============================] - 0s 4ms/step - loss: 0.3555 - accuracy: 1.0000\n",
            "Epoch 161/200\n",
            "4/4 [==============================] - 0s 5ms/step - loss: 0.3548 - accuracy: 1.0000\n",
            "Epoch 162/200\n",
            "4/4 [==============================] - 0s 5ms/step - loss: 0.3541 - accuracy: 1.0000\n",
            "Epoch 163/200\n",
            "4/4 [==============================] - 0s 4ms/step - loss: 0.3535 - accuracy: 1.0000\n",
            "Epoch 164/200\n",
            "4/4 [==============================] - 0s 4ms/step - loss: 0.3529 - accuracy: 1.0000\n",
            "Epoch 165/200\n",
            "4/4 [==============================] - 0s 4ms/step - loss: 0.3522 - accuracy: 1.0000\n",
            "Epoch 166/200\n",
            "4/4 [==============================] - 0s 4ms/step - loss: 0.3515 - accuracy: 1.0000\n",
            "Epoch 167/200\n",
            "4/4 [==============================] - 0s 4ms/step - loss: 0.3509 - accuracy: 1.0000\n",
            "Epoch 168/200\n",
            "4/4 [==============================] - 0s 4ms/step - loss: 0.3502 - accuracy: 1.0000\n",
            "Epoch 169/200\n",
            "4/4 [==============================] - 0s 4ms/step - loss: 0.3495 - accuracy: 1.0000\n",
            "Epoch 170/200\n",
            "4/4 [==============================] - 0s 4ms/step - loss: 0.3488 - accuracy: 1.0000\n",
            "Epoch 171/200\n",
            "4/4 [==============================] - 0s 4ms/step - loss: 0.3481 - accuracy: 1.0000\n",
            "Epoch 172/200\n",
            "4/4 [==============================] - 0s 5ms/step - loss: 0.3475 - accuracy: 1.0000\n",
            "Epoch 173/200\n",
            "4/4 [==============================] - 0s 4ms/step - loss: 0.3468 - accuracy: 1.0000\n",
            "Epoch 174/200\n",
            "4/4 [==============================] - 0s 5ms/step - loss: 0.3461 - accuracy: 1.0000\n",
            "Epoch 175/200\n",
            "4/4 [==============================] - 0s 4ms/step - loss: 0.3455 - accuracy: 1.0000\n",
            "Epoch 176/200\n",
            "4/4 [==============================] - 0s 4ms/step - loss: 0.3448 - accuracy: 1.0000\n",
            "Epoch 177/200\n",
            "4/4 [==============================] - 0s 5ms/step - loss: 0.3441 - accuracy: 1.0000\n",
            "Epoch 178/200\n",
            "4/4 [==============================] - 0s 4ms/step - loss: 0.3434 - accuracy: 1.0000\n",
            "Epoch 179/200\n",
            "4/4 [==============================] - 0s 4ms/step - loss: 0.3427 - accuracy: 1.0000\n",
            "Epoch 180/200\n",
            "4/4 [==============================] - 0s 4ms/step - loss: 0.3420 - accuracy: 1.0000\n",
            "Epoch 181/200\n",
            "4/4 [==============================] - 0s 4ms/step - loss: 0.3414 - accuracy: 1.0000\n",
            "Epoch 182/200\n",
            "4/4 [==============================] - 0s 4ms/step - loss: 0.3407 - accuracy: 1.0000\n",
            "Epoch 183/200\n",
            "4/4 [==============================] - 0s 3ms/step - loss: 0.3401 - accuracy: 1.0000\n",
            "Epoch 184/200\n",
            "4/4 [==============================] - 0s 3ms/step - loss: 0.3394 - accuracy: 1.0000\n",
            "Epoch 185/200\n",
            "4/4 [==============================] - 0s 4ms/step - loss: 0.3387 - accuracy: 1.0000\n",
            "Epoch 186/200\n",
            "4/4 [==============================] - 0s 4ms/step - loss: 0.3380 - accuracy: 1.0000\n",
            "Epoch 187/200\n",
            "4/4 [==============================] - 0s 4ms/step - loss: 0.3373 - accuracy: 1.0000\n",
            "Epoch 188/200\n",
            "4/4 [==============================] - 0s 4ms/step - loss: 0.3367 - accuracy: 1.0000\n",
            "Epoch 189/200\n",
            "4/4 [==============================] - 0s 4ms/step - loss: 0.3360 - accuracy: 1.0000\n",
            "Epoch 190/200\n",
            "4/4 [==============================] - 0s 4ms/step - loss: 0.3353 - accuracy: 1.0000\n",
            "Epoch 191/200\n",
            "4/4 [==============================] - 0s 4ms/step - loss: 0.3347 - accuracy: 1.0000\n",
            "Epoch 192/200\n",
            "4/4 [==============================] - 0s 4ms/step - loss: 0.3340 - accuracy: 1.0000\n",
            "Epoch 193/200\n",
            "4/4 [==============================] - 0s 4ms/step - loss: 0.3334 - accuracy: 1.0000\n",
            "Epoch 194/200\n",
            "4/4 [==============================] - 0s 4ms/step - loss: 0.3327 - accuracy: 1.0000\n",
            "Epoch 195/200\n",
            "4/4 [==============================] - 0s 5ms/step - loss: 0.3321 - accuracy: 1.0000\n",
            "Epoch 196/200\n",
            "4/4 [==============================] - 0s 5ms/step - loss: 0.3314 - accuracy: 1.0000\n",
            "Epoch 197/200\n",
            "4/4 [==============================] - 0s 4ms/step - loss: 0.3308 - accuracy: 1.0000\n",
            "Epoch 198/200\n",
            "4/4 [==============================] - 0s 4ms/step - loss: 0.3301 - accuracy: 1.0000\n",
            "Epoch 199/200\n",
            "4/4 [==============================] - 0s 4ms/step - loss: 0.3295 - accuracy: 1.0000\n",
            "Epoch 200/200\n",
            "4/4 [==============================] - 0s 3ms/step - loss: 0.3288 - accuracy: 1.0000\n"
          ]
        },
        {
          "output_type": "execute_result",
          "data": {
            "text/plain": [
              "<keras.callbacks.History at 0x7f17b91f7970>"
            ]
          },
          "metadata": {},
          "execution_count": 285
        }
      ]
    },
    {
      "cell_type": "code",
      "source": [
        "weights=model_example.get_weights()"
      ],
      "metadata": {
        "id": "hk0SDVPWbZTE"
      },
      "execution_count": null,
      "outputs": []
    },
    {
      "cell_type": "code",
      "source": [
        "plt.scatter(X[0:50,0],X[0:50,1],label='class 1')\n",
        "plt.scatter(X[50:100,0],X[50:100,1],label='class 2')\n",
        "\n",
        "x1 = np.linspace(0,1,10)\n",
        "x2 = -(weights[0][0]*x1 + weights[1])/weights[0][1]\n",
        "\n",
        "#weights[0][0]*x + weights[0][1]*x2 + weights[1]=0\n",
        "\n",
        "\n",
        "plt.plot(x1,x2,color='green',label='decision boundary')\n",
        "\n",
        "\n",
        "plt.xlim(-0.05,1.05)\n",
        "plt.ylim(-0.05,1.05)\n",
        "plt.legend()\n",
        "plt.show()"
      ],
      "metadata": {
        "colab": {
          "base_uri": "https://localhost:8080/",
          "height": 430
        },
        "id": "X3uiPWYH6uV4",
        "outputId": "c30b808b-2f09-46ff-ba53-174f0d863be3"
      },
      "execution_count": null,
      "outputs": [
        {
          "output_type": "display_data",
          "data": {
            "text/plain": [
              "<Figure size 640x480 with 1 Axes>"
            ],
            "image/png": "[encoded data removed]"
          },
          "metadata": {}
        }
      ]
    },
    {
      "cell_type": "markdown",
      "source": [
        "##Activation function"
      ],
      "metadata": {
        "id": "m27d7RU8L3Tk"
      }
    },
    {
      "cell_type": "markdown",
      "source": [
        "Why we add activation function?\n",
        "\n",
        "-- To solve the non-linear problem"
      ],
      "metadata": {
        "id": "KNSCkUecMJ4x"
      }
    },
    {
      "cell_type": "markdown",
      "source": [
        "This first comes up when trying to solve the XOR problem"
      ],
      "metadata": {
        "id": "iqzJTvO-VCVF"
      }
    },
    {
      "cell_type": "code",
      "source": [
        "x = [0,1]\n",
        "y1 = [0,1]\n",
        "y2 = [1,0]\n",
        "plt.scatter(x,y1,label='0')\n",
        "plt.scatter(x,y2,label='1')\n",
        "plt.xlabel('x1')\n",
        "plt.ylabel('x2')\n",
        "plt.legend()\n",
        "plt.show()"
      ],
      "metadata": {
        "colab": {
          "base_uri": "https://localhost:8080/",
          "height": 449
        },
        "id": "EzIwvCbAVWp0",
        "outputId": "1e267bb5-be06-462c-d08b-584b71373ba1"
      },
      "execution_count": null,
      "outputs": [
        {
          "output_type": "display_data",
          "data": {
            "text/plain": [
              "<Figure size 640x480 with 1 Axes>"
            ],
            "image/png": "[encoded data removed]"
          },
          "metadata": {}
        }
      ]
    },
    {
      "cell_type": "markdown",
      "source": [
        "common activation functions:"
      ],
      "metadata": {
        "id": "o7l5YnrzMmfA"
      }
    },
    {
      "cell_type": "markdown",
      "source": [
        "Sigmoid function"
      ],
      "metadata": {
        "id": "fZfe0cDYMxIP"
      }
    },
    {
      "cell_type": "code",
      "source": [
        "def sigmoid(x):\n",
        "  y = 1/(1 + np.exp(-x))\n",
        "  return y"
      ],
      "metadata": {
        "id": "UIKT0ipYL72V"
      },
      "execution_count": null,
      "outputs": []
    },
    {
      "cell_type": "code",
      "source": [
        "x = np.linspace(-10, 10, 100)\n",
        "plt.plot(x,sigmoid(x))\n",
        "plt.grid(True)\n",
        "plt.show()"
      ],
      "metadata": {
        "colab": {
          "base_uri": "https://localhost:8080/",
          "height": 430
        },
        "id": "syulyjLRQdhO",
        "outputId": "661e774d-5849-4d12-d4cb-5339381fc1df"
      },
      "execution_count": null,
      "outputs": [
        {
          "output_type": "display_data",
          "data": {
            "text/plain": [
              "<Figure size 640x480 with 1 Axes>"
            ],
            "image/png": "[encoded data removed]"
          },
          "metadata": {}
        }
      ]
    },
    {
      "cell_type": "markdown",
      "source": [
        "ReLU function"
      ],
      "metadata": {
        "id": "qiWJ3tS4Q1zx"
      }
    },
    {
      "cell_type": "code",
      "source": [
        "def relu(x):\n",
        "  y = np.maximum(0,x)\n",
        "  return y"
      ],
      "metadata": {
        "id": "ULLi80gtQ31f"
      },
      "execution_count": null,
      "outputs": []
    },
    {
      "cell_type": "code",
      "source": [
        "x = np.linspace(-10, 10, 100)\n",
        "plt.plot(x,relu(x))\n",
        "plt.grid(True)\n",
        "plt.show()"
      ],
      "metadata": {
        "colab": {
          "base_uri": "https://localhost:8080/",
          "height": 430
        },
        "id": "k2eJicWuRC9w",
        "outputId": "3fcbc894-7b31-45ed-fb49-0110894726ed"
      },
      "execution_count": null,
      "outputs": [
        {
          "output_type": "display_data",
          "data": {
            "text/plain": [
              "<Figure size 640x480 with 1 Axes>"
            ],
            "image/png": "[encoded data removed]"
          },
          "metadata": {}
        }
      ]
    },
    {
      "cell_type": "markdown",
      "source": [
        "tanh function"
      ],
      "metadata": {
        "id": "ev5YlhwTRVI0"
      }
    },
    {
      "cell_type": "code",
      "source": [
        "def tanh(x):\n",
        "  y = (np.exp(x) - np.exp(-x)) / (np.exp(x) + np.exp(-x))\n",
        "  return y"
      ],
      "metadata": {
        "id": "kevvHVqVRXIS"
      },
      "execution_count": null,
      "outputs": []
    },
    {
      "cell_type": "code",
      "source": [
        "x = np.linspace(-10, 10, 100)\n",
        "plt.plot(x,tanh(x))\n",
        "plt.grid(True)\n",
        "plt.show()"
      ],
      "metadata": {
        "colab": {
          "base_uri": "https://localhost:8080/",
          "height": 430
        },
        "id": "TcPd3lc6RxfA",
        "outputId": "c1ecdf15-b8e5-428a-c6f2-01f8554efb7f"
      },
      "execution_count": null,
      "outputs": [
        {
          "output_type": "display_data",
          "data": {
            "text/plain": [
              "<Figure size 640x480 with 1 Axes>"
            ],
            "image/png": "[encoded data removed]"
          },
          "metadata": {}
        }
      ]
    },
    {
      "cell_type": "markdown",
      "source": [
        "In binary classification case, we add sigmoid function to the output also to limit it within 0 to 1."
      ],
      "metadata": {
        "id": "D2ADlI-PSRKE"
      }
    },
    {
      "cell_type": "markdown",
      "source": [
        "How to add activation function in keras?"
      ],
      "metadata": {
        "id": "Y_OqtBuvSrx2"
      }
    },
    {
      "cell_type": "code",
      "source": [
        "model_activation = Sequential([\n",
        "    Dense(1, input_dim=2, activation='sigmoid')])"
      ],
      "metadata": {
        "id": "OKKX_4ROSzn4"
      },
      "execution_count": null,
      "outputs": []
    },
    {
      "cell_type": "code",
      "source": [
        "model_activation.summary()"
      ],
      "metadata": {
        "colab": {
          "base_uri": "https://localhost:8080/"
        },
        "id": "2qk-eXZHTDma",
        "outputId": "d89726d4-5afb-4b86-feb0-1db44e3be2e4"
      },
      "execution_count": null,
      "outputs": [
        {
          "output_type": "stream",
          "name": "stdout",
          "text": [
            "Model: \"sequential_24\"\n",
            "_________________________________________________________________\n",
            " Layer (type)                Output Shape              Param #   \n",
            "=================================================================\n",
            " dense_26 (Dense)            (None, 1)                 3         \n",
            "                                                                 \n",
            "=================================================================\n",
            "Total params: 3\n",
            "Trainable params: 3\n",
            "Non-trainable params: 0\n",
            "_________________________________________________________________\n"
          ]
        }
      ]
    }
  ]
}